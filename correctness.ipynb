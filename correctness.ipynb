{
 "cells": [
  {
   "cell_type": "code",
   "execution_count": 1,
   "id": "5e0665f8",
   "metadata": {},
   "outputs": [],
   "source": [
    "import numpy as np\n",
    "import pandas as pd\n",
    "import matplotlib.pyplot as plt\n",
    "import seaborn as sns"
   ]
  },
  {
   "cell_type": "code",
   "execution_count": 2,
   "id": "398c2b58",
   "metadata": {},
   "outputs": [],
   "source": [
    "def read_result(path, name):\n",
    "    df = pd.read_csv(path)\n",
    "    df['just_type'] = name\n",
    "    df['time'] = df['time'] / 1000.0\n",
    "    return df\n",
    "\n",
    "style = dict(capsize=0.04, errwidth=1.2, ci='sd')"
   ]
  },
  {
   "cell_type": "code",
   "execution_count": 3,
   "id": "f24d2c3d",
   "metadata": {},
   "outputs": [],
   "source": [
    "df1 = read_result(\"./evaluation/evaluation_comparison/results_approx.txt\", \"approx_0_01\")\n",
    "df2 = read_result(\"./evaluation/evaluation_comparison/results_approx_exp.txt\", \"approx_exp_0_01\")\n",
    "df3 = read_result(\"./evaluation/evaluation_comparison/results_exact.txt\", \"exact\")\n",
    "df4 = read_result(\"./evaluation/evaluation_comparison/results_exact_exp.txt\", \"exact_exp\")"
   ]
  },
  {
   "cell_type": "code",
   "execution_count": 4,
   "id": "2e9b71c5",
   "metadata": {},
   "outputs": [
    {
     "data": {
      "text/html": [
       "<div>\n",
       "<style scoped>\n",
       "    .dataframe tbody tr th:only-of-type {\n",
       "        vertical-align: middle;\n",
       "    }\n",
       "\n",
       "    .dataframe tbody tr th {\n",
       "        vertical-align: top;\n",
       "    }\n",
       "\n",
       "    .dataframe thead th {\n",
       "        text-align: right;\n",
       "    }\n",
       "</style>\n",
       "<table border=\"1\" class=\"dataframe\">\n",
       "  <thead>\n",
       "    <tr style=\"text-align: right;\">\n",
       "      <th></th>\n",
       "      <th>type</th>\n",
       "      <th>dafNodes</th>\n",
       "      <th>repetition</th>\n",
       "      <th>time</th>\n",
       "      <th>justification</th>\n",
       "      <th>peafNodes</th>\n",
       "      <th>iteration</th>\n",
       "      <th>just_type</th>\n",
       "    </tr>\n",
       "  </thead>\n",
       "  <tbody>\n",
       "    <tr>\n",
       "      <th>0</th>\n",
       "      <td>barabasi</td>\n",
       "      <td>3</td>\n",
       "      <td>2</td>\n",
       "      <td>1.252</td>\n",
       "      <td>1.000000</td>\n",
       "      <td>4</td>\n",
       "      <td>278.0</td>\n",
       "      <td>approx_0_01</td>\n",
       "    </tr>\n",
       "    <tr>\n",
       "      <th>1</th>\n",
       "      <td>barabasi</td>\n",
       "      <td>3</td>\n",
       "      <td>6</td>\n",
       "      <td>4.565</td>\n",
       "      <td>0.954986</td>\n",
       "      <td>4</td>\n",
       "      <td>1755.0</td>\n",
       "      <td>approx_0_01</td>\n",
       "    </tr>\n",
       "    <tr>\n",
       "      <th>2</th>\n",
       "      <td>barabasi</td>\n",
       "      <td>3</td>\n",
       "      <td>8</td>\n",
       "      <td>6.193</td>\n",
       "      <td>0.922675</td>\n",
       "      <td>4</td>\n",
       "      <td>2871.0</td>\n",
       "      <td>approx_0_01</td>\n",
       "    </tr>\n",
       "    <tr>\n",
       "      <th>3</th>\n",
       "      <td>barabasi</td>\n",
       "      <td>3</td>\n",
       "      <td>5</td>\n",
       "      <td>7.653</td>\n",
       "      <td>0.802078</td>\n",
       "      <td>4</td>\n",
       "      <td>6351.0</td>\n",
       "      <td>approx_0_01</td>\n",
       "    </tr>\n",
       "    <tr>\n",
       "      <th>4</th>\n",
       "      <td>barabasi</td>\n",
       "      <td>3</td>\n",
       "      <td>7</td>\n",
       "      <td>8.129</td>\n",
       "      <td>0.765238</td>\n",
       "      <td>4</td>\n",
       "      <td>7186.0</td>\n",
       "      <td>approx_0_01</td>\n",
       "    </tr>\n",
       "    <tr>\n",
       "      <th>...</th>\n",
       "      <td>...</td>\n",
       "      <td>...</td>\n",
       "      <td>...</td>\n",
       "      <td>...</td>\n",
       "      <td>...</td>\n",
       "      <td>...</td>\n",
       "      <td>...</td>\n",
       "      <td>...</td>\n",
       "    </tr>\n",
       "    <tr>\n",
       "      <th>895</th>\n",
       "      <td>watts</td>\n",
       "      <td>5</td>\n",
       "      <td>100</td>\n",
       "      <td>17.954</td>\n",
       "      <td>0.930941</td>\n",
       "      <td>6</td>\n",
       "      <td>2592.0</td>\n",
       "      <td>approx_0_01</td>\n",
       "    </tr>\n",
       "    <tr>\n",
       "      <th>896</th>\n",
       "      <td>watts</td>\n",
       "      <td>5</td>\n",
       "      <td>96</td>\n",
       "      <td>41.160</td>\n",
       "      <td>0.513765</td>\n",
       "      <td>6</td>\n",
       "      <td>9989.0</td>\n",
       "      <td>approx_0_01</td>\n",
       "    </tr>\n",
       "    <tr>\n",
       "      <th>897</th>\n",
       "      <td>watts</td>\n",
       "      <td>5</td>\n",
       "      <td>98</td>\n",
       "      <td>32.295</td>\n",
       "      <td>0.864703</td>\n",
       "      <td>6</td>\n",
       "      <td>4686.0</td>\n",
       "      <td>approx_0_01</td>\n",
       "    </tr>\n",
       "    <tr>\n",
       "      <th>898</th>\n",
       "      <td>watts</td>\n",
       "      <td>5</td>\n",
       "      <td>97</td>\n",
       "      <td>40.518</td>\n",
       "      <td>0.775718</td>\n",
       "      <td>6</td>\n",
       "      <td>6960.0</td>\n",
       "      <td>approx_0_01</td>\n",
       "    </tr>\n",
       "    <tr>\n",
       "      <th>899</th>\n",
       "      <td>watts</td>\n",
       "      <td>5</td>\n",
       "      <td>99</td>\n",
       "      <td>31.638</td>\n",
       "      <td>0.694975</td>\n",
       "      <td>6</td>\n",
       "      <td>8478.0</td>\n",
       "      <td>approx_0_01</td>\n",
       "    </tr>\n",
       "  </tbody>\n",
       "</table>\n",
       "<p>900 rows × 8 columns</p>\n",
       "</div>"
      ],
      "text/plain": [
       "         type  dafNodes  repetition    time  justification  peafNodes  \\\n",
       "0    barabasi         3           2   1.252       1.000000          4   \n",
       "1    barabasi         3           6   4.565       0.954986          4   \n",
       "2    barabasi         3           8   6.193       0.922675          4   \n",
       "3    barabasi         3           5   7.653       0.802078          4   \n",
       "4    barabasi         3           7   8.129       0.765238          4   \n",
       "..        ...       ...         ...     ...            ...        ...   \n",
       "895     watts         5         100  17.954       0.930941          6   \n",
       "896     watts         5          96  41.160       0.513765          6   \n",
       "897     watts         5          98  32.295       0.864703          6   \n",
       "898     watts         5          97  40.518       0.775718          6   \n",
       "899     watts         5          99  31.638       0.694975          6   \n",
       "\n",
       "     iteration    just_type  \n",
       "0        278.0  approx_0_01  \n",
       "1       1755.0  approx_0_01  \n",
       "2       2871.0  approx_0_01  \n",
       "3       6351.0  approx_0_01  \n",
       "4       7186.0  approx_0_01  \n",
       "..         ...          ...  \n",
       "895     2592.0  approx_0_01  \n",
       "896     9989.0  approx_0_01  \n",
       "897     4686.0  approx_0_01  \n",
       "898     6960.0  approx_0_01  \n",
       "899     8478.0  approx_0_01  \n",
       "\n",
       "[900 rows x 8 columns]"
      ]
     },
     "execution_count": 4,
     "metadata": {},
     "output_type": "execute_result"
    }
   ],
   "source": [
    "df1"
   ]
  },
  {
   "cell_type": "code",
   "execution_count": 29,
   "id": "9b4189b7",
   "metadata": {},
   "outputs": [],
   "source": [
    "def compare_frames(d1, d2):\n",
    "    d1_o = d1[d1.repetition == d2.repetition][d1.type == d2.type]\n",
    "    d2_o = d2[d1.repetition == d2.repetition][d1.type == d2.type]\n",
    "    if (np.max(df1_o.repetition - df2_o.repetition) != 0):\n",
    "        raise ValueError(\"The repetition numbers of these frames don't match!\")\n",
    "    return d1_o.justification - d2_o.justification"
   ]
  },
  {
   "cell_type": "code",
   "execution_count": 30,
   "id": "0f60cbc8",
   "metadata": {},
   "outputs": [
    {
     "name": "stderr",
     "output_type": "stream",
     "text": [
      "/var/folders/xn/9lbng__j71lg6_6ghrfh77sh0000gn/T/ipykernel_12004/625549006.py:1: UserWarning: Boolean Series key will be reindexed to match DataFrame index.\n",
      "  df1_o = df1[df1.repetition == df2.repetition][df1.type == df2.type]\n"
     ]
    }
   ],
   "source": [
    "df1_o = df1[df1.repetition == df2.repetition][df1.type == df2.type]"
   ]
  },
  {
   "cell_type": "code",
   "execution_count": 31,
   "id": "16e9db49",
   "metadata": {},
   "outputs": [
    {
     "name": "stderr",
     "output_type": "stream",
     "text": [
      "/var/folders/xn/9lbng__j71lg6_6ghrfh77sh0000gn/T/ipykernel_12004/4075395879.py:1: UserWarning: Boolean Series key will be reindexed to match DataFrame index.\n",
      "  df2_o = df2[df1.repetition == df2.repetition][df1.type == df2.type]\n"
     ]
    }
   ],
   "source": [
    "df2_o = df2[df1.repetition == df2.repetition][df1.type == df2.type]"
   ]
  },
  {
   "cell_type": "code",
   "execution_count": 32,
   "id": "41666d06",
   "metadata": {},
   "outputs": [
    {
     "data": {
      "text/plain": [
       "True"
      ]
     },
     "execution_count": 32,
     "metadata": {},
     "output_type": "execute_result"
    }
   ],
   "source": [
    "np.max(df1_o.repetition - df2_o.repetition) == 0"
   ]
  },
  {
   "cell_type": "code",
   "execution_count": 34,
   "id": "696cf2d2",
   "metadata": {},
   "outputs": [
    {
     "name": "stderr",
     "output_type": "stream",
     "text": [
      "/var/folders/xn/9lbng__j71lg6_6ghrfh77sh0000gn/T/ipykernel_12004/2210996539.py:2: UserWarning: Boolean Series key will be reindexed to match DataFrame index.\n",
      "  d1_o = d1[d1.repetition == d2.repetition][d1.type == d2.type]\n",
      "/var/folders/xn/9lbng__j71lg6_6ghrfh77sh0000gn/T/ipykernel_12004/2210996539.py:3: UserWarning: Boolean Series key will be reindexed to match DataFrame index.\n",
      "  d2_o = d2[d1.repetition == d2.repetition][d1.type == d2.type]\n"
     ]
    },
    {
     "data": {
      "text/plain": [
       "count    181.000000\n",
       "mean       0.000558\n",
       "std        0.007704\n",
       "min       -0.026149\n",
       "25%       -0.004118\n",
       "50%        0.000000\n",
       "75%        0.005126\n",
       "max        0.020176\n",
       "Name: justification, dtype: float64"
      ]
     },
     "execution_count": 34,
     "metadata": {},
     "output_type": "execute_result"
    }
   ],
   "source": [
    "# df1 = \"approx_0_01\"\n",
    "# df2 = \"approx_exp_0_01\"\n",
    "# df3 = \"exact\"\n",
    "# df4 = \"exact_exp\"\n",
    "compare_frames(df1, df2).describe()"
   ]
  },
  {
   "cell_type": "code",
   "execution_count": 35,
   "id": "f1b7cbfb",
   "metadata": {},
   "outputs": [
    {
     "name": "stderr",
     "output_type": "stream",
     "text": [
      "/var/folders/xn/9lbng__j71lg6_6ghrfh77sh0000gn/T/ipykernel_12004/2210996539.py:2: UserWarning: Boolean Series key will be reindexed to match DataFrame index.\n",
      "  d1_o = d1[d1.repetition == d2.repetition][d1.type == d2.type]\n",
      "/var/folders/xn/9lbng__j71lg6_6ghrfh77sh0000gn/T/ipykernel_12004/2210996539.py:3: UserWarning: Boolean Series key will be reindexed to match DataFrame index.\n",
      "  d2_o = d2[d1.repetition == d2.repetition][d1.type == d2.type]\n"
     ]
    },
    {
     "data": {
      "text/plain": [
       "count    91.000000\n",
       "mean      0.000049\n",
       "std       0.005223\n",
       "min      -0.012422\n",
       "25%      -0.003810\n",
       "50%      -0.000650\n",
       "75%       0.003804\n",
       "max       0.014799\n",
       "Name: justification, dtype: float64"
      ]
     },
     "execution_count": 35,
     "metadata": {},
     "output_type": "execute_result"
    }
   ],
   "source": [
    "# df1 = \"approx_0_01\"\n",
    "# df2 = \"approx_exp_0_01\"\n",
    "# df3 = \"exact\"\n",
    "# df4 = \"exact_exp\"\n",
    "compare_frames(df2, df3).describe()"
   ]
  },
  {
   "cell_type": "code",
   "execution_count": 36,
   "id": "7c9ff8a6",
   "metadata": {},
   "outputs": [
    {
     "name": "stderr",
     "output_type": "stream",
     "text": [
      "/var/folders/xn/9lbng__j71lg6_6ghrfh77sh0000gn/T/ipykernel_12004/2210996539.py:2: UserWarning: Boolean Series key will be reindexed to match DataFrame index.\n",
      "  d1_o = d1[d1.repetition == d2.repetition][d1.type == d2.type]\n",
      "/var/folders/xn/9lbng__j71lg6_6ghrfh77sh0000gn/T/ipykernel_12004/2210996539.py:3: UserWarning: Boolean Series key will be reindexed to match DataFrame index.\n",
      "  d2_o = d2[d1.repetition == d2.repetition][d1.type == d2.type]\n"
     ]
    },
    {
     "data": {
      "text/plain": [
       "count    130.0\n",
       "mean       0.0\n",
       "std        0.0\n",
       "min        0.0\n",
       "25%        0.0\n",
       "50%        0.0\n",
       "75%        0.0\n",
       "max        0.0\n",
       "Name: justification, dtype: float64"
      ]
     },
     "execution_count": 36,
     "metadata": {},
     "output_type": "execute_result"
    }
   ],
   "source": [
    "compare_frames(df3, df4).describe()"
   ]
  },
  {
   "cell_type": "code",
   "execution_count": 39,
   "id": "a096bcc5",
   "metadata": {},
   "outputs": [
    {
     "data": {
      "text/html": [
       "<div>\n",
       "<style scoped>\n",
       "    .dataframe tbody tr th:only-of-type {\n",
       "        vertical-align: middle;\n",
       "    }\n",
       "\n",
       "    .dataframe tbody tr th {\n",
       "        vertical-align: top;\n",
       "    }\n",
       "\n",
       "    .dataframe thead th {\n",
       "        text-align: right;\n",
       "    }\n",
       "</style>\n",
       "<table border=\"1\" class=\"dataframe\">\n",
       "  <thead>\n",
       "    <tr style=\"text-align: right;\">\n",
       "      <th></th>\n",
       "      <th>dafNodes</th>\n",
       "      <th>repetition</th>\n",
       "      <th>time</th>\n",
       "      <th>justification</th>\n",
       "      <th>peafNodes</th>\n",
       "      <th>iteration</th>\n",
       "    </tr>\n",
       "  </thead>\n",
       "  <tbody>\n",
       "    <tr>\n",
       "      <th>count</th>\n",
       "      <td>600.000000</td>\n",
       "      <td>600.000000</td>\n",
       "      <td>600.000000</td>\n",
       "      <td>600.000000</td>\n",
       "      <td>600.000000</td>\n",
       "      <td>600.000000</td>\n",
       "    </tr>\n",
       "    <tr>\n",
       "      <th>mean</th>\n",
       "      <td>4.000000</td>\n",
       "      <td>50.500000</td>\n",
       "      <td>2.360003</td>\n",
       "      <td>9.842365</td>\n",
       "      <td>8.000000</td>\n",
       "      <td>58037.000000</td>\n",
       "    </tr>\n",
       "    <tr>\n",
       "      <th>std</th>\n",
       "      <td>1.000834</td>\n",
       "      <td>28.890155</td>\n",
       "      <td>2.406815</td>\n",
       "      <td>8.079792</td>\n",
       "      <td>2.001669</td>\n",
       "      <td>57756.150196</td>\n",
       "    </tr>\n",
       "    <tr>\n",
       "      <th>min</th>\n",
       "      <td>3.000000</td>\n",
       "      <td>1.000000</td>\n",
       "      <td>0.002000</td>\n",
       "      <td>1.322874</td>\n",
       "      <td>6.000000</td>\n",
       "      <td>329.000000</td>\n",
       "    </tr>\n",
       "    <tr>\n",
       "      <th>25%</th>\n",
       "      <td>3.000000</td>\n",
       "      <td>25.750000</td>\n",
       "      <td>0.005000</td>\n",
       "      <td>2.304107</td>\n",
       "      <td>6.000000</td>\n",
       "      <td>329.000000</td>\n",
       "    </tr>\n",
       "    <tr>\n",
       "      <th>50%</th>\n",
       "      <td>4.000000</td>\n",
       "      <td>50.500000</td>\n",
       "      <td>1.297500</td>\n",
       "      <td>5.863668</td>\n",
       "      <td>8.000000</td>\n",
       "      <td>58037.000000</td>\n",
       "    </tr>\n",
       "    <tr>\n",
       "      <th>75%</th>\n",
       "      <td>5.000000</td>\n",
       "      <td>75.250000</td>\n",
       "      <td>4.750250</td>\n",
       "      <td>16.950674</td>\n",
       "      <td>10.000000</td>\n",
       "      <td>115745.000000</td>\n",
       "    </tr>\n",
       "    <tr>\n",
       "      <th>max</th>\n",
       "      <td>5.000000</td>\n",
       "      <td>100.000000</td>\n",
       "      <td>7.408000</td>\n",
       "      <td>33.365958</td>\n",
       "      <td>10.000000</td>\n",
       "      <td>115745.000000</td>\n",
       "    </tr>\n",
       "  </tbody>\n",
       "</table>\n",
       "</div>"
      ],
      "text/plain": [
       "         dafNodes  repetition        time  justification   peafNodes  \\\n",
       "count  600.000000  600.000000  600.000000     600.000000  600.000000   \n",
       "mean     4.000000   50.500000    2.360003       9.842365    8.000000   \n",
       "std      1.000834   28.890155    2.406815       8.079792    2.001669   \n",
       "min      3.000000    1.000000    0.002000       1.322874    6.000000   \n",
       "25%      3.000000   25.750000    0.005000       2.304107    6.000000   \n",
       "50%      4.000000   50.500000    1.297500       5.863668    8.000000   \n",
       "75%      5.000000   75.250000    4.750250      16.950674   10.000000   \n",
       "max      5.000000  100.000000    7.408000      33.365958   10.000000   \n",
       "\n",
       "           iteration  \n",
       "count     600.000000  \n",
       "mean    58037.000000  \n",
       "std     57756.150196  \n",
       "min       329.000000  \n",
       "25%       329.000000  \n",
       "50%     58037.000000  \n",
       "75%    115745.000000  \n",
       "max    115745.000000  "
      ]
     },
     "execution_count": 39,
     "metadata": {},
     "output_type": "execute_result"
    }
   ],
   "source": [
    "df1 = read_result(\"./evaluation/evaluation_tree/results_exact_exp.txt\", \"exact_exp\")\n",
    "df2 = read_result(\"./evaluation/evaluation_tree/results_approx_exp.txt\", \"approx_exp_0_01\")\n",
    "df1.describe()"
   ]
  },
  {
   "cell_type": "code",
   "execution_count": 58,
   "id": "dd27e253",
   "metadata": {},
   "outputs": [
    {
     "data": {
      "text/plain": [
       "((600, 8), (600, 8))"
      ]
     },
     "execution_count": 58,
     "metadata": {},
     "output_type": "execute_result"
    }
   ],
   "source": [
    "df2[df2.dafNodes < 6].shape, df1.shape"
   ]
  },
  {
   "cell_type": "code",
   "execution_count": 71,
   "id": "12c9fdf0",
   "metadata": {
    "scrolled": true
   },
   "outputs": [
    {
     "data": {
      "text/plain": [
       "0        7\n",
       "1        4\n",
       "2        3\n",
       "3        2\n",
       "4        5\n",
       "      ... \n",
       "595     96\n",
       "596     99\n",
       "597     97\n",
       "598     98\n",
       "599    100\n",
       "Name: repetition, Length: 600, dtype: int64"
      ]
     },
     "execution_count": 71,
     "metadata": {},
     "output_type": "execute_result"
    }
   ],
   "source": [
    "d2 = df2[df2.dafNodes < 6]\n",
    "d1 = df1\n",
    "d1.repetition"
   ]
  },
  {
   "cell_type": "code",
   "execution_count": 75,
   "id": "a97fd910",
   "metadata": {},
   "outputs": [
    {
     "data": {
      "text/html": [
       "<div>\n",
       "<style scoped>\n",
       "    .dataframe tbody tr th:only-of-type {\n",
       "        vertical-align: middle;\n",
       "    }\n",
       "\n",
       "    .dataframe tbody tr th {\n",
       "        vertical-align: top;\n",
       "    }\n",
       "\n",
       "    .dataframe thead th {\n",
       "        text-align: right;\n",
       "    }\n",
       "</style>\n",
       "<table border=\"1\" class=\"dataframe\">\n",
       "  <thead>\n",
       "    <tr style=\"text-align: right;\">\n",
       "      <th></th>\n",
       "      <th>type</th>\n",
       "      <th>dafNodes</th>\n",
       "      <th>repetition</th>\n",
       "      <th>time</th>\n",
       "      <th>justification</th>\n",
       "      <th>peafNodes</th>\n",
       "      <th>iteration</th>\n",
       "      <th>just_type</th>\n",
       "    </tr>\n",
       "  </thead>\n",
       "  <tbody>\n",
       "    <tr>\n",
       "      <th>0</th>\n",
       "      <td>barabasi</td>\n",
       "      <td>3</td>\n",
       "      <td>1</td>\n",
       "      <td>0.248</td>\n",
       "      <td>1.000000</td>\n",
       "      <td>6</td>\n",
       "      <td>278.0</td>\n",
       "      <td>approx_exp_0_01</td>\n",
       "    </tr>\n",
       "    <tr>\n",
       "      <th>1</th>\n",
       "      <td>barabasi</td>\n",
       "      <td>3</td>\n",
       "      <td>2</td>\n",
       "      <td>0.251</td>\n",
       "      <td>1.000000</td>\n",
       "      <td>6</td>\n",
       "      <td>278.0</td>\n",
       "      <td>approx_exp_0_01</td>\n",
       "    </tr>\n",
       "    <tr>\n",
       "      <th>2</th>\n",
       "      <td>barabasi</td>\n",
       "      <td>3</td>\n",
       "      <td>4</td>\n",
       "      <td>0.254</td>\n",
       "      <td>1.000000</td>\n",
       "      <td>6</td>\n",
       "      <td>278.0</td>\n",
       "      <td>approx_exp_0_01</td>\n",
       "    </tr>\n",
       "    <tr>\n",
       "      <th>3</th>\n",
       "      <td>barabasi</td>\n",
       "      <td>3</td>\n",
       "      <td>5</td>\n",
       "      <td>0.257</td>\n",
       "      <td>1.000000</td>\n",
       "      <td>6</td>\n",
       "      <td>278.0</td>\n",
       "      <td>approx_exp_0_01</td>\n",
       "    </tr>\n",
       "    <tr>\n",
       "      <th>4</th>\n",
       "      <td>barabasi</td>\n",
       "      <td>3</td>\n",
       "      <td>3</td>\n",
       "      <td>0.270</td>\n",
       "      <td>0.994924</td>\n",
       "      <td>6</td>\n",
       "      <td>394.0</td>\n",
       "      <td>approx_exp_0_01</td>\n",
       "    </tr>\n",
       "    <tr>\n",
       "      <th>...</th>\n",
       "      <td>...</td>\n",
       "      <td>...</td>\n",
       "      <td>...</td>\n",
       "      <td>...</td>\n",
       "      <td>...</td>\n",
       "      <td>...</td>\n",
       "      <td>...</td>\n",
       "      <td>...</td>\n",
       "    </tr>\n",
       "    <tr>\n",
       "      <th>995</th>\n",
       "      <td>watts</td>\n",
       "      <td>5</td>\n",
       "      <td>64</td>\n",
       "      <td>0.076</td>\n",
       "      <td>0.889283</td>\n",
       "      <td>10</td>\n",
       "      <td>3947.0</td>\n",
       "      <td>approx_exp_0_01</td>\n",
       "    </tr>\n",
       "    <tr>\n",
       "      <th>996</th>\n",
       "      <td>watts</td>\n",
       "      <td>5</td>\n",
       "      <td>94</td>\n",
       "      <td>0.018</td>\n",
       "      <td>0.974002</td>\n",
       "      <td>10</td>\n",
       "      <td>1077.0</td>\n",
       "      <td>approx_exp_0_01</td>\n",
       "    </tr>\n",
       "    <tr>\n",
       "      <th>998</th>\n",
       "      <td>watts</td>\n",
       "      <td>5</td>\n",
       "      <td>100</td>\n",
       "      <td>0.021</td>\n",
       "      <td>0.977754</td>\n",
       "      <td>10</td>\n",
       "      <td>944.0</td>\n",
       "      <td>approx_exp_0_01</td>\n",
       "    </tr>\n",
       "    <tr>\n",
       "      <th>1000</th>\n",
       "      <td>watts</td>\n",
       "      <td>5</td>\n",
       "      <td>99</td>\n",
       "      <td>0.029</td>\n",
       "      <td>0.964211</td>\n",
       "      <td>10</td>\n",
       "      <td>1425.0</td>\n",
       "      <td>approx_exp_0_01</td>\n",
       "    </tr>\n",
       "    <tr>\n",
       "      <th>1001</th>\n",
       "      <td>watts</td>\n",
       "      <td>5</td>\n",
       "      <td>96</td>\n",
       "      <td>0.043</td>\n",
       "      <td>0.948267</td>\n",
       "      <td>10</td>\n",
       "      <td>1991.0</td>\n",
       "      <td>approx_exp_0_01</td>\n",
       "    </tr>\n",
       "  </tbody>\n",
       "</table>\n",
       "<p>600 rows × 8 columns</p>\n",
       "</div>"
      ],
      "text/plain": [
       "          type  dafNodes  repetition   time  justification  peafNodes  \\\n",
       "0     barabasi         3           1  0.248       1.000000          6   \n",
       "1     barabasi         3           2  0.251       1.000000          6   \n",
       "2     barabasi         3           4  0.254       1.000000          6   \n",
       "3     barabasi         3           5  0.257       1.000000          6   \n",
       "4     barabasi         3           3  0.270       0.994924          6   \n",
       "...        ...       ...         ...    ...            ...        ...   \n",
       "995      watts         5          64  0.076       0.889283         10   \n",
       "996      watts         5          94  0.018       0.974002         10   \n",
       "998      watts         5         100  0.021       0.977754         10   \n",
       "1000     watts         5          99  0.029       0.964211         10   \n",
       "1001     watts         5          96  0.043       0.948267         10   \n",
       "\n",
       "      iteration        just_type  \n",
       "0         278.0  approx_exp_0_01  \n",
       "1         278.0  approx_exp_0_01  \n",
       "2         278.0  approx_exp_0_01  \n",
       "3         278.0  approx_exp_0_01  \n",
       "4         394.0  approx_exp_0_01  \n",
       "...         ...              ...  \n",
       "995      3947.0  approx_exp_0_01  \n",
       "996      1077.0  approx_exp_0_01  \n",
       "998       944.0  approx_exp_0_01  \n",
       "1000     1425.0  approx_exp_0_01  \n",
       "1001     1991.0  approx_exp_0_01  \n",
       "\n",
       "[600 rows x 8 columns]"
      ]
     },
     "execution_count": 75,
     "metadata": {},
     "output_type": "execute_result"
    }
   ],
   "source": []
  },
  {
   "cell_type": "code",
   "execution_count": null,
   "id": "d1854998",
   "metadata": {},
   "outputs": [],
   "source": []
  }
 ],
 "metadata": {
  "kernelspec": {
   "display_name": "Python 3 (ipykernel)",
   "language": "python",
   "name": "python3"
  },
  "language_info": {
   "codemirror_mode": {
    "name": "ipython",
    "version": 3
   },
   "file_extension": ".py",
   "mimetype": "text/x-python",
   "name": "python",
   "nbconvert_exporter": "python",
   "pygments_lexer": "ipython3",
   "version": "3.8.11"
  }
 },
 "nbformat": 4,
 "nbformat_minor": 5
}
